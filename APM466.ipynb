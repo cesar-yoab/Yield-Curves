{
  "nbformat": 4,
  "nbformat_minor": 0,
  "metadata": {
    "colab": {
      "name": "DataGeneration.ipynb",
      "provenance": [],
      "authorship_tag": "ABX9TyNQ3z2H/+SsG/Ne+CD7K8F+",
      "include_colab_link": true
    },
    "kernelspec": {
      "name": "python3",
      "display_name": "Python 3"
    },
    "language_info": {
      "name": "python"
    }
  },
  "cells": [
    {
      "cell_type": "markdown",
      "metadata": {
        "id": "view-in-github",
        "colab_type": "text"
      },
      "source": [
        "<a href=\"https://colab.research.google.com/github/cesar-yoab/Yield-Curves/blob/main/APM466.ipynb\" target=\"_parent\"><img src=\"https://colab.research.google.com/assets/colab-badge.svg\" alt=\"Open In Colab\"/></a>"
      ]
    },
    {
      "cell_type": "code",
      "source": [
        "from scipy.stats import binom"
      ],
      "metadata": {
        "id": "JRfyEFT8Wpez"
      },
      "execution_count": null,
      "outputs": []
    },
    {
      "cell_type": "code",
      "source": [
        "import numpy as np\n",
        "\n",
        "np.random.randint(0, 9999)"
      ],
      "metadata": {
        "colab": {
          "base_uri": "https://localhost:8080/"
        },
        "id": "KVOBkPNdzbfA",
        "outputId": "9126efd3-0e04-4577-a75b-6ab4089a799a"
      },
      "execution_count": null,
      "outputs": [
        {
          "output_type": "execute_result",
          "data": {
            "text/plain": [
              "7458"
            ]
          },
          "metadata": {},
          "execution_count": 3
        }
      ]
    },
    {
      "cell_type": "code",
      "source": [
        "def even(max=100):\n",
        "    val = 1\n",
        "    while val < max:\n",
        "        yield val*2\n",
        "        val += 1\n",
        "\n",
        "def odd(start=1, max=100000):\n",
        "    val = start*2 - 1\n",
        "    while val < max:\n",
        "        yield val\n",
        "        val = val + 2\n",
        "\n",
        "def find_cum_sum_index(start, bound):\n",
        "    #print(\"start\", start)\n",
        "    cum_sum = 0\n",
        "    index = 0\n",
        "    for n in odd(start):\n",
        "        cum_sum += 1/n\n",
        "        #print(\"sum, bound\", cum_sum, bound)\n",
        "        if cum_sum >= bound:\n",
        "            return start + index\n",
        "        index += 1\n",
        "\n",
        "def find_pattern():\n",
        "    pattern = []\n",
        "\n",
        "    for n_i in even(6):\n",
        "        bound = 1/n_i + 1\n",
        "        if len(pattern) == 0:\n",
        "            index = find_cum_sum_index(1, bound)\n",
        "            #print(index)\n",
        "        else:\n",
        "            index = find_cum_sum_index(pattern[-1], bound)\n",
        "        pattern.append(index)\n",
        "\n",
        "    return pattern"
      ],
      "metadata": {
        "id": "W25FG4MTjiK9"
      },
      "execution_count": null,
      "outputs": []
    },
    {
      "cell_type": "code",
      "source": [
        "indexes = find_pattern()"
      ],
      "metadata": {
        "colab": {
          "base_uri": "https://localhost:8080/"
        },
        "id": "nc6d6MubnJRs",
        "outputId": "4361d2cf-fe73-4829-88b8-35743c53dabb"
      },
      "execution_count": null,
      "outputs": [
        {
          "output_type": "execute_result",
          "data": {
            "text/plain": [
              "[3, 25, 248, 2344, 21146]"
            ]
          },
          "metadata": {},
          "execution_count": 35
        }
      ]
    },
    {
      "cell_type": "code",
      "source": [
        "from datetime import datetime, timedelta"
      ],
      "metadata": {
        "id": "r-2ILuLmTnYU"
      },
      "execution_count": null,
      "outputs": []
    },
    {
      "cell_type": "code",
      "source": [
        "(datetime.strptime('2022-02-01', \"%Y-%m-%d\") +\n",
        "         timedelta(days=1)).strftime(\"%Y-%m-%d\")"
      ],
      "metadata": {
        "colab": {
          "base_uri": "https://localhost:8080/",
          "height": 35
        },
        "id": "iep_H3pSTo7c",
        "outputId": "36ee1b9c-3b72-4baf-c314-85d3392801e0"
      },
      "execution_count": null,
      "outputs": [
        {
          "output_type": "execute_result",
          "data": {
            "application/vnd.google.colaboratory.intrinsic+json": {
              "type": "string"
            },
            "text/plain": [
              "'2022-02-02'"
            ]
          },
          "metadata": {},
          "execution_count": 5
        }
      ]
    },
    {
      "cell_type": "code",
      "source": [
        "'user::passw:ord'.split('::')"
      ],
      "metadata": {
        "colab": {
          "base_uri": "https://localhost:8080/"
        },
        "id": "MHTuY8aOyEng",
        "outputId": "0a8f6a82-03f4-4a92-a7f4-ac1da7d1bb22"
      },
      "execution_count": null,
      "outputs": [
        {
          "output_type": "execute_result",
          "data": {
            "text/plain": [
              "['user', 'passw:ord']"
            ]
          },
          "metadata": {},
          "execution_count": 6
        }
      ]
    },
    {
      "cell_type": "code",
      "source": [
        "from itertools import combinations\n",
        "\n",
        "sums = set()\n",
        "\n",
        "c5 = combinations([2,5,8,11,14,17,20], 5)\n",
        "c6 = combinations([2,5,8,11,14,17,20], 6)\n",
        "c7 = [2,5,8,11,14,17,20]\n",
        "\n",
        "for i in c5:\n",
        "    sums.add(sum(i))\n",
        "\n",
        "for i in c6:\n",
        "    sums.add(sum(i))\n",
        "\n",
        "sums.add(sum(c7))\n",
        "\n",
        "sums"
      ],
      "metadata": {
        "colab": {
          "base_uri": "https://localhost:8080/"
        },
        "id": "9DV_CjHZF9g7",
        "outputId": "49a050e9-f6d5-4e53-a196-9808f60f2188"
      },
      "execution_count": null,
      "outputs": [
        {
          "output_type": "execute_result",
          "data": {
            "text/plain": [
              "{40, 43, 46, 49, 52, 55, 57, 58, 60, 61, 63, 64, 66, 67, 69, 70, 72, 75, 77}"
            ]
          },
          "metadata": {},
          "execution_count": 9
        }
      ]
    },
    {
      "cell_type": "code",
      "source": [
        "import numpy as np\n",
        "\n",
        "A = np.array([[2, 3, 2, 10, 0],[7, 3, 3, 2, -1],[2, 0, 1, 4, -1],[-1, 8, 5, 3, -1]])\n",
        "B = np.array([[0, -3, -1, -7, 0], [5, 1, 2, 1, 2], [3, 0, 1, 5, 4], [0, 7, 6, 2, 5]])\n",
        "\n",
        "A - B"
      ],
      "metadata": {
        "colab": {
          "base_uri": "https://localhost:8080/"
        },
        "id": "R55ISWq9bHWv",
        "outputId": "55263b47-879e-4695-d8d8-8c884435b8d7"
      },
      "execution_count": null,
      "outputs": [
        {
          "output_type": "execute_result",
          "data": {
            "text/plain": [
              "array([[ 2,  6,  3, 17,  0],\n",
              "       [ 2,  2,  1,  1, -3],\n",
              "       [-1,  0,  0, -1, -5],\n",
              "       [-1,  1, -1,  1, -6]])"
            ]
          },
          "metadata": {},
          "execution_count": 10
        }
      ]
    },
    {
      "cell_type": "code",
      "source": [
        "class A:\n",
        "    def __init__(self, val):\n",
        "        self.val = val\n",
        "\n",
        "    def caller(self):\n",
        "        getattr(A, \"test_func\")(self)\n",
        "\n",
        "    def test_func(self):\n",
        "        print(f\"Val: {self.val}\")\n",
        "\n",
        "\n",
        "a = A(5)\n",
        "a.caller()"
      ],
      "metadata": {
        "colab": {
          "base_uri": "https://localhost:8080/"
        },
        "id": "t3ITlHNSigaP",
        "outputId": "b0465005-5538-42f8-f4e9-a0b992c57272"
      },
      "execution_count": null,
      "outputs": [
        {
          "output_type": "stream",
          "name": "stdout",
          "text": [
            "Val: 5\n"
          ]
        }
      ]
    },
    {
      "cell_type": "code",
      "source": [
        ""
      ],
      "metadata": {
        "id": "1Uy2wyPbiuLC"
      },
      "execution_count": null,
      "outputs": []
    },
    {
      "cell_type": "code",
      "source": [
        "for i in range(10, 40):\n",
        "    print(f\"N - {i} probability: {binom.pmf(10, i, 0.5)}\")"
      ],
      "metadata": {
        "colab": {
          "base_uri": "https://localhost:8080/"
        },
        "id": "lYuIte-FWq8x",
        "outputId": "1bb79997-d23b-4cc1-a084-933ab4089c1e"
      },
      "execution_count": null,
      "outputs": [
        {
          "output_type": "stream",
          "name": "stdout",
          "text": [
            "N - 10 probability: 0.0009765625\n",
            "N - 11 probability: 0.00537109375\n",
            "N - 12 probability: 0.016113281249999962\n",
            "N - 13 probability: 0.034912109374999875\n",
            "N - 14 probability: 0.06109619140624999\n",
            "N - 15 probability: 0.0916442871093751\n",
            "N - 16 probability: 0.12219238281250028\n",
            "N - 17 probability: 0.14837646484375044\n",
            "N - 18 probability: 0.16692352294921842\n",
            "N - 19 probability: 0.17619705200195324\n",
            "N - 20 probability: 0.17619705200195293\n",
            "N - 21 probability: 0.16818809509277344\n",
            "N - 22 probability: 0.15417242050170948\n",
            "N - 23 probability: 0.13638329505920457\n",
            "N - 24 probability: 0.11689996719360303\n",
            "N - 25 probability: 0.09741663932800224\n",
            "N - 26 probability: 0.0791510194540019\n",
            "N - 27 probability: 0.06285522133111898\n",
            "N - 28 probability: 0.04888739436864885\n",
            "N - 29 probability: 0.037308800965547236\n",
            "N - 30 probability: 0.027981600724160505\n",
            "N - 31 probability: 0.0206530862487852\n",
            "N - 32 probability: 0.01502042636275274\n",
            "N - 33 probability: 0.010775523260235885\n",
            "N - 34 probability: 0.007632662309333558\n",
            "N - 35 probability: 0.005342863616533514\n",
            "N - 36 probability: 0.0036989055806770717\n",
            "N - 37 probability: 0.002534435305278679\n",
            "N - 38 probability: 0.0017197953857248413\n",
            "N - 39 probability: 0.0011564141386770507\n"
          ]
        }
      ]
    },
    {
      "cell_type": "code",
      "metadata": {
        "colab": {
          "base_uri": "https://localhost:8080/"
        },
        "id": "kHI_Q8xer_vR",
        "outputId": "53aaf154-eb58-48cc-989c-2654256e5159"
      },
      "source": [
        "def is_valid_sequence(degrees):\n",
        "    s = sum(degrees)\n",
        "    n = len(degrees)\n",
        "\n",
        "    return s <= n*(n-1)\n",
        "\n",
        "is_valid_sequence([7, 7, 7, 7, 7, 7, 6])"
      ],
      "execution_count": null,
      "outputs": [
        {
          "output_type": "execute_result",
          "data": {
            "text/plain": [
              "False"
            ]
          },
          "metadata": {},
          "execution_count": 9
        }
      ]
    },
    {
      "cell_type": "code",
      "metadata": {
        "id": "ZDyGEjZySGgZ"
      },
      "source": [
        "import numpy as np\n",
        "import pandas as pd\n",
        "import datetime as dt\n",
        "from sympy.ntheory.factor_ import totient\n"
      ],
      "execution_count": null,
      "outputs": []
    },
    {
      "cell_type": "markdown",
      "source": [
        "# New Section"
      ],
      "metadata": {
        "id": "SGr_f8HnfPxk"
      }
    },
    {
      "cell_type": "code",
      "metadata": {
        "colab": {
          "base_uri": "https://localhost:8080/"
        },
        "id": "bFXTqRDwtavC",
        "outputId": "b47a00d3-fd5b-44ab-d9aa-223d10164e81"
      },
      "source": [
        "sum([7, 5, 5, 5, 3, 3, 1, 1])"
      ],
      "execution_count": null,
      "outputs": [
        {
          "output_type": "execute_result",
          "data": {
            "text/plain": [
              "30"
            ]
          },
          "metadata": {},
          "execution_count": 11
        }
      ]
    },
    {
      "cell_type": "code",
      "metadata": {
        "colab": {
          "base_uri": "https://localhost:8080/"
        },
        "id": "23vCGWQttf8N",
        "outputId": "3c1028d7-2692-42bd-e296-947b86a887ce"
      },
      "source": [
        "8*7"
      ],
      "execution_count": null,
      "outputs": [
        {
          "output_type": "execute_result",
          "data": {
            "text/plain": [
              "56"
            ]
          },
          "metadata": {},
          "execution_count": 8
        }
      ]
    },
    {
      "cell_type": "code",
      "metadata": {
        "id": "XybZL_Whcghr"
      },
      "source": [
        "def isbn_calculate(nums):\n",
        "    rsum = 0\n",
        "    for i, n in enumerate(nums):\n",
        "        if (i+1) % 2 == 0:\n",
        "            rsum += 3*n\n",
        "        else:\n",
        "            rsum += n\n",
        "    \n",
        "    return rsum\n",
        "\n",
        "\n",
        "def is_valid_isbn(nums):\n",
        "    isbn = isbn_calculate(nums)\n",
        "    return isbn % 10 == 0\n",
        "\n",
        "def run_trial(ntrials=3):\n",
        "    print(\"==== Starting Trials ====\")\n",
        "    for k in range(ntrials):\n",
        "        nums = [9, 7, 8, 1, 4, 3, 9, 8, 8, 5, 2, 5, 3]\n",
        "        #i, j = np.random.randint(0, 13, 2)\n",
        "        i, j = 3, 6\n",
        "        if i == j:\n",
        "            i += 1\n",
        "        print()\n",
        "        print(f\"== Trial {k} - Removing {i+1} and {j+1}\")\n",
        "        print(f\"ORIGINAL ISBN:\\t  {nums}\")\n",
        "\n",
        "        for n1 in range(0, 10):\n",
        "            for n2 in range(0, 10):\n",
        "                nums[i], nums[j] = n1, n2\n",
        "                if is_valid_isbn(nums):\n",
        "                    print(f\"Found valid isbn: {nums} - {isbn_calculate(nums)}\")\n"
      ],
      "execution_count": null,
      "outputs": []
    },
    {
      "cell_type": "code",
      "metadata": {
        "colab": {
          "base_uri": "https://localhost:8080/"
        },
        "id": "1QN5dWMVY4dv",
        "outputId": "fba759af-4c7e-4355-b33b-275494fa4acb"
      },
      "source": [
        "isbn_calculate([9, 7, 8, 1, 4, 3, 9, 8, 8, 5, 2, 5, 3])"
      ],
      "execution_count": null,
      "outputs": [
        {
          "output_type": "execute_result",
          "data": {
            "text/plain": [
              "130"
            ]
          },
          "metadata": {},
          "execution_count": 2
        }
      ]
    },
    {
      "cell_type": "code",
      "metadata": {
        "id": "GNdZxH5YiIQM"
      },
      "source": [
        "a, b = np.random.randint(0, 13, 2)"
      ],
      "execution_count": null,
      "outputs": []
    },
    {
      "cell_type": "code",
      "metadata": {
        "id": "kCGLDoFkKsjG"
      },
      "source": [
        "def euclidean_algorithm(x, y):\n",
        "    import math\n",
        "\n",
        "    while True:\n",
        "        m = int(math.modf(x/y)[1])\n",
        "        r = x % y\n",
        "        print(f\"{x} = {y} * {m} + {r}\")\n",
        "        if r == 1 or r == 0:\n",
        "            break\n",
        "\n",
        "        x = y\n",
        "        y = r"
      ],
      "execution_count": null,
      "outputs": []
    },
    {
      "cell_type": "code",
      "metadata": {
        "id": "5rTytGalMSlE"
      },
      "source": [
        "euclidean_algorithm(659880, 159853)"
      ],
      "execution_count": null,
      "outputs": []
    },
    {
      "cell_type": "code",
      "metadata": {
        "id": "CdNS2_Oe0959"
      },
      "source": [
        "def factor_integer(N, a=2):\n",
        "    print(\"=\"*10)\n",
        "    i = 2\n",
        "    while True:\n",
        "        a = (a**i) % N\n",
        "        d = np.gcd(a-1, N)\n",
        "\n",
        "        #print(f\"a = {a}^{i} mod {N}   and   {d}=gcd(a-1, {N})\")\n",
        "        print(f\"2^{i}! - 1 = {a-1} mod({N}),   gcd({a-1}, {N})={d}\")\n",
        "\n",
        "        if d > 1 and d < N:\n",
        "            print(\"=\"*10)\n",
        "            return f\"Prime factor: {d}\"\n",
        "        \n",
        "        i += 1"
      ],
      "execution_count": null,
      "outputs": []
    },
    {
      "cell_type": "code",
      "metadata": {
        "colab": {
          "base_uri": "https://localhost:8080/"
        },
        "id": "u1nOq-px6A16",
        "outputId": "1f26faf4-4f0c-49b4-f07b-c13250cb9efc"
      },
      "source": [
        "print(factor_integer(12191))"
      ],
      "execution_count": null,
      "outputs": [
        {
          "output_type": "stream",
          "name": "stdout",
          "text": [
            "==========\n",
            "2^2! - 1 = 3 mod(12191),   gcd(3, 12191)=1\n",
            "2^3! - 1 = 63 mod(12191),   gcd(63, 12191)=1\n",
            "2^4! - 1 = 2399 mod(12191),   gcd(2399, 12191)=1\n",
            "2^5! - 1 = 3730 mod(12191),   gcd(3730, 12191)=1\n",
            "2^6! - 1 = 6278 mod(12191),   gcd(6278, 12191)=73\n",
            "==========\n",
            "Prime factor: 73\n"
          ]
        }
      ]
    },
    {
      "cell_type": "code",
      "source": [
        "1 ^ 0"
      ],
      "metadata": {
        "colab": {
          "base_uri": "https://localhost:8080/"
        },
        "id": "iCoOBVB-B18L",
        "outputId": "7198bbf1-9f64-4000-ede3-d2098629f663"
      },
      "execution_count": null,
      "outputs": [
        {
          "output_type": "execute_result",
          "data": {
            "text/plain": [
              "1"
            ]
          },
          "metadata": {},
          "execution_count": 9
        }
      ]
    },
    {
      "cell_type": "code",
      "metadata": {
        "id": "uhcS5dqV6yIC",
        "colab": {
          "base_uri": "https://localhost:8080/"
        },
        "outputId": "5227b496-46e0-4980-dc39-e230ee86979f"
      },
      "source": [
        "counts = {k:0 for k in range(4)}\n",
        "\n",
        "for i in range(1, 61):\n",
        "    counts[i % 4] += 1\n",
        "\n",
        "counts"
      ],
      "execution_count": null,
      "outputs": [
        {
          "output_type": "execute_result",
          "data": {
            "text/plain": [
              "{0: 15, 1: 15, 2: 15, 3: 15}"
            ]
          },
          "metadata": {},
          "execution_count": 1
        }
      ]
    },
    {
      "cell_type": "code",
      "metadata": {
        "id": "ukkpdUh2mByx"
      },
      "source": [
        "def factorial(x):\n",
        "    if x == 1:\n",
        "        return 1\n",
        "    else:\n",
        "        return x * factorial(x-1)"
      ],
      "execution_count": null,
      "outputs": []
    },
    {
      "cell_type": "code",
      "metadata": {
        "id": "CKvKQ2jU6xvH",
        "colab": {
          "base_uri": "https://localhost:8080/"
        },
        "outputId": "c85be770-afaf-41ca-afe2-3740118ae6ef"
      },
      "source": [
        "count = 100\n",
        "\n",
        "for i in range(1, 101):\n",
        "    if i % 7 == 0:\n",
        "        count -= 1\n",
        "    elif i % 5 == 0:\n",
        "        count -= 1\n",
        "\n",
        "count"
      ],
      "execution_count": null,
      "outputs": [
        {
          "output_type": "execute_result",
          "data": {
            "text/plain": [
              "68"
            ]
          },
          "metadata": {},
          "execution_count": 10
        }
      ]
    },
    {
      "cell_type": "code",
      "metadata": {
        "id": "ss4E4MCpSMfJ"
      },
      "source": [
        "def generate_data():\n",
        "    data = {}\n",
        "\n",
        "    # Generate timestamps\n",
        "    tstamp = []\n",
        "    months = {\n",
        "        1: 31,\n",
        "        2:28,\n",
        "        3: 31,\n",
        "        4:30,\n",
        "        5:31,\n",
        "        6:30\n",
        "    }\n",
        "\n",
        "    for m in range(1, 7):\n",
        "        for d in range(1, months[m]+1):\n",
        "            for h in range(10, 23):\n",
        "                tstamp.append(dt.datetime(2021, m, d, h))\n",
        "\n",
        "    subtotal = np.random.normal(450, 100, size=len(tstamp))\n",
        "    imp = subtotal * 0.15\n",
        "    total = subtotal + imp\n",
        "\n",
        "    data['Timestamp'] = tstamp\n",
        "    data['SubTotal'] = np.round(subtotal, 2)\n",
        "    data['Imp'] = np.round(imp, 2)\n",
        "    data['Total'] = np.round(total, 2)\n",
        "\n",
        "    return pd.DataFrame(data)"
      ],
      "execution_count": null,
      "outputs": []
    },
    {
      "cell_type": "code",
      "metadata": {
        "id": "Nq7KDNZgxsBL"
      },
      "source": [
        "data = generate_data\n",
        "da"
      ],
      "execution_count": null,
      "outputs": []
    },
    {
      "cell_type": "code",
      "metadata": {
        "id": "tt45aQoWxuAc"
      },
      "source": [
        "data.to_csv('fake_data.csv', index=False)"
      ],
      "execution_count": null,
      "outputs": []
    },
    {
      "cell_type": "code",
      "metadata": {
        "colab": {
          "base_uri": "https://localhost:8080/",
          "height": 35
        },
        "id": "l3uK_arsuTfJ",
        "outputId": "2b71304b-a68c-4f9e-9cfe-86032fa6ec99"
      },
      "source": [
        "bin(0)"
      ],
      "execution_count": null,
      "outputs": [
        {
          "output_type": "execute_result",
          "data": {
            "application/vnd.google.colaboratory.intrinsic+json": {
              "type": "string"
            },
            "text/plain": [
              "'0b1010'"
            ]
          },
          "metadata": {},
          "execution_count": 83
        }
      ]
    },
    {
      "cell_type": "code",
      "metadata": {
        "colab": {
          "base_uri": "https://localhost:8080/"
        },
        "id": "bhEHE_GLuuzz",
        "outputId": "7d1a9e67-7418-4f35-fe3e-75e5b2de9d34"
      },
      "source": [
        "10^0"
      ],
      "execution_count": null,
      "outputs": [
        {
          "output_type": "execute_result",
          "data": {
            "text/plain": [
              "10"
            ]
          },
          "metadata": {},
          "execution_count": 2
        }
      ]
    },
    {
      "cell_type": "code",
      "metadata": {
        "colab": {
          "base_uri": "https://localhost:8080/"
        },
        "id": "ioBVL4GNu7ab",
        "outputId": "b11fb646-9b8d-45d7-b723-e594c080f1a9"
      },
      "source": [
        "nums = [12, 16, 28]\n",
        "for i in range(3):\n",
        "    for j in range(3):\n",
        "        nums = [12, 16, 28]\n",
        "        nums[i] += 1\n",
        "        nums[j] += 1\n",
        "        nim = 0\n",
        "        for n in nums:\n",
        "            nim ^= n\n",
        "        print(nums, \"=> \", nim)"
      ],
      "execution_count": null,
      "outputs": [
        {
          "output_type": "stream",
          "name": "stdout",
          "text": [
            "[14, 16, 28] =>  2\n",
            "[13, 17, 28] =>  0\n",
            "[13, 16, 29] =>  0\n",
            "[13, 17, 28] =>  0\n",
            "[12, 18, 28] =>  2\n",
            "[12, 17, 29] =>  0\n",
            "[13, 16, 29] =>  0\n",
            "[12, 17, 29] =>  0\n",
            "[12, 16, 30] =>  2\n"
          ]
        }
      ]
    },
    {
      "cell_type": "code",
      "source": [
        "12^16^28"
      ],
      "metadata": {
        "colab": {
          "base_uri": "https://localhost:8080/"
        },
        "id": "xq5RP7hbNT1j",
        "outputId": "0284af40-196a-4a4b-f5d4-98d25647465c"
      },
      "execution_count": null,
      "outputs": [
        {
          "output_type": "execute_result",
          "data": {
            "text/plain": [
              "0"
            ]
          },
          "metadata": {},
          "execution_count": 2
        }
      ]
    },
    {
      "cell_type": "code",
      "metadata": {
        "id": "Wn5JP9gQ6ykt",
        "colab": {
          "base_uri": "https://localhost:8080/",
          "height": 35
        },
        "outputId": "4ca2abc7-dce6-4b90-f441-1d2344466be5"
      },
      "source": [
        "bin(ord('.'))"
      ],
      "execution_count": null,
      "outputs": [
        {
          "output_type": "execute_result",
          "data": {
            "application/vnd.google.colaboratory.intrinsic+json": {
              "type": "string"
            },
            "text/plain": [
              "'0b101110'"
            ]
          },
          "metadata": {},
          "execution_count": 130
        }
      ]
    },
    {
      "cell_type": "code",
      "metadata": {
        "id": "kPOB54eoAMvK"
      },
      "source": [
        "kpd = 1e10 * np.power(60, 2) * 24"
      ],
      "execution_count": null,
      "outputs": []
    },
    {
      "cell_type": "code",
      "metadata": {
        "colab": {
          "base_uri": "https://localhost:8080/"
        },
        "id": "8k94lWF_Onhg",
        "outputId": "234b4edd-d4ee-46d0-86b0-b3baa876dc5f"
      },
      "source": [
        "np.power(2, 55) / kpd"
      ],
      "execution_count": null,
      "outputs": [
        {
          "output_type": "execute_result",
          "data": {
            "text/plain": [
              "41.69999654972681"
            ]
          },
          "metadata": {},
          "execution_count": 148
        }
      ]
    },
    {
      "cell_type": "code",
      "metadata": {
        "colab": {
          "base_uri": "https://localhost:8080/"
        },
        "id": "9ZZYLbyaPraX",
        "outputId": "cd78f673-d669-4013-a030-fc3e66ee877a"
      },
      "source": [
        "np.power(2, 55) / 1e10"
      ],
      "execution_count": null,
      "outputs": [
        {
          "output_type": "execute_result",
          "data": {
            "text/plain": [
              "3602879.701896397"
            ]
          },
          "metadata": {},
          "execution_count": 145
        }
      ]
    },
    {
      "cell_type": "code",
      "metadata": {
        "colab": {
          "base_uri": "https://localhost:8080/"
        },
        "id": "Ig_yEJ-zRvO6",
        "outputId": "ad4e6e8d-83ec-48bc-c1e8-7ca88c2be018"
      },
      "source": [
        "kpy = kpd * 365.25\n",
        "kpy"
      ],
      "execution_count": null,
      "outputs": [
        {
          "output_type": "execute_result",
          "data": {
            "text/plain": [
              "3.15576e+17"
            ]
          },
          "metadata": {},
          "execution_count": 150
        }
      ]
    },
    {
      "cell_type": "code",
      "metadata": {
        "colab": {
          "base_uri": "https://localhost:8080/"
        },
        "id": "qDSBMl3qVpWW",
        "outputId": "de3057fa-c49e-4d33-f8cf-d2853ee09249"
      },
      "source": [
        "kpy * 100"
      ],
      "execution_count": null,
      "outputs": [
        {
          "output_type": "execute_result",
          "data": {
            "text/plain": [
              "3.15576e+19"
            ]
          },
          "metadata": {},
          "execution_count": 151
        }
      ]
    },
    {
      "cell_type": "code",
      "metadata": {
        "colab": {
          "base_uri": "https://localhost:8080/"
        },
        "id": "vPvFZtU3WQnG",
        "outputId": "d3ce0115-7294-419f-c4b5-ee669abf02fb"
      },
      "source": [
        "np.log2(kpy*100)"
      ],
      "execution_count": null,
      "outputs": [
        {
          "output_type": "execute_result",
          "data": {
            "text/plain": [
              "64.77462129339004"
            ]
          },
          "metadata": {},
          "execution_count": 152
        }
      ]
    },
    {
      "cell_type": "code",
      "metadata": {
        "id": "238_CqFaWdiU"
      },
      "source": [
        "from yfinance import Ticker"
      ],
      "execution_count": null,
      "outputs": []
    },
    {
      "cell_type": "code",
      "source": [
        "msft = Ticker(\"CDA 2023\")\n",
        "\n",
        "# get stock info\n",
        "msft.info\n"
      ],
      "metadata": {
        "colab": {
          "base_uri": "https://localhost:8080/"
        },
        "id": "LNaREuLm655u",
        "outputId": "e8aec996-0f67-4565-ac5e-30628d236c25"
      },
      "execution_count": null,
      "outputs": [
        {
          "output_type": "execute_result",
          "data": {
            "text/plain": [
              "{'logo_url': '', 'preMarketPrice': None, 'regularMarketPrice': None}"
            ]
          },
          "metadata": {},
          "execution_count": 6
        }
      ]
    },
    {
      "cell_type": "code",
      "source": [
        ""
      ],
      "metadata": {
        "id": "eA6qy25G7BhI"
      },
      "execution_count": null,
      "outputs": []
    }
  ]
}